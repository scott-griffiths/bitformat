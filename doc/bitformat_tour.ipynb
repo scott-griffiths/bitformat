{
 "cells": [
  {
   "cell_type": "markdown",
   "id": "05ee006a-9218-4e70-82b2-b6ed03085ee1",
   "metadata": {},
   "source": [
    "![bitformat](https://raw.githubusercontent.com/scott-griffiths/bitformat/main/doc/bitformat_logo_small.png)"
   ]
  },
  {
   "cell_type": "markdown",
   "id": "1d9bb04d1bf321c3",
   "metadata": {},
   "source": [
    "# A Tour of bitformat\n",
    "\n",
    "A number of classes are available in bitformat to store and manipulate binary data. We'll only be using a few of the here:\n",
    "\n",
    "* ``Bits`` - An immutable container of binary data.\n",
    "* ``Dtype`` - A data type that gives an interpretation to binary data.\n",
    "* ``Array`` - A container for contiguously allocated `Bits` objects with the same `Dtype`.\n",
    "\n",
    "These are the building blocks for more complex fields that can be used to make a binary format.\n",
    "\n",
    "* ``Field`` - Either one value or an array, with a single data type, with an optional name and value.\n",
    "* ``Format`` - A sequence of other FieldTypes, with an optional name.\n",
    "\n",
    "For this tour we'll first install `bitformat` and import some classes::\n"
   ]
  },
  {
   "cell_type": "code",
   "id": "8e03b8012da3337d",
   "metadata": {},
   "source": [
    "!pip install bitformat\n",
    "from bitformat import Bits, Format"
   ],
   "outputs": [],
   "execution_count": null
  },
  {
   "cell_type": "markdown",
   "id": "acb299bdc01542f6",
   "metadata": {},
   "source": [
    "## Bits\n",
    "\n",
    "The `Bits` class represents an immutable sequence of bits, similar to how the built-in `bytes` is an immutable sequence of bytes,\n",
    "and a `str` is an immutable sequence of characters.\n",
    "\n",
    "There are several builder class methods used to create `Bits` objects.\n",
    "\n",
    "| Method name                     | Description                                |\n",
    "|---------------------------------|--------------------------------------------|\n",
    "| `Bits.from_dtype(dtype, value)` | Combine a data type with a value.        |\n",
    "| `Bits.from_string(s)`           | Use a formatted string.                    |\n",
    "| `Bits.from_bytes(b)`            | Directly from a `bytes` object.            |\n",
    "| `Bits.from_iterable(i)`         | Converts each element to a single bit.    |\n",
    "| `Bits.from_zeros(n)`            | Initialise with zero bits.                 |\n",
    "| `Bits.from_ones(n)`             | Initialise with one bits.                  |\n",
    "| `Bits.from_random(n, seed)`     | Initialise with random bits.               |\n",
    "| `Bits.from_joined(iterable)`    | Concatenate from an iterable such as a list.|\n",
    "\n",
    "\n",
    "The `Bits` constructor can be used as a shortcut for the `from_string` method, so `Bits(s)` and `Bits.from_string(s)` are equivalent.\n",
    "\n",
    "Creating from a string is often convenient and quite powerful.\n",
    "The string can be a binary, octal or hexadecimal literal by starting with `'0b'`, `'0o'` or `'0x'` respectively.\n",
    "It can be a string that uses various data types of integer or floating point values, and it can be a sequence of tokens separated by commas."
   ]
  },
  {
   "cell_type": "code",
   "id": "53c713fcc45e4e5a",
   "metadata": {
    "ExecuteTime": {
     "end_time": "2025-01-27T06:58:51.268896Z",
     "start_time": "2025-01-27T06:58:51.263819Z"
    }
   },
   "source": [
    "a = Bits(\"0b110\")  # A 3-bit binary string\n",
    "b = Bits(\"0xabcde\")  # A 20-bit hexadecimal string\n",
    "c = Bits('bytes=b\"abcdefgh\"')  # An 8 byte bytes object\n",
    "d = Bits(\"f32=13.5\")  # A 32-bit IEEE floating point number\n",
    "e = Bits(\"i7=-31\")  # A 7-bit signed integer\n",
    "f = Bits(\"0b001, u32=90, 0x5e\")  # Three Bits objects concatenated together"
   ],
   "outputs": [],
   "execution_count": 16
  },
  {
   "cell_type": "markdown",
   "id": "7d1db6101161757",
   "metadata": {},
   "source": "Finally, a data type can be used to create a `Bits` object."
  },
  {
   "metadata": {
    "ExecuteTime": {
     "end_time": "2025-01-27T06:58:52.278273Z",
     "start_time": "2025-01-27T06:58:52.273634Z"
    }
   },
   "cell_type": "code",
   "source": [
    "g = Bits.from_dtype(\"u8\", 65)  # An 8-bit unsigned integer with the value 65\n",
    "h = Bits.from_dtype(\"hex\", \"abcde\")  # A 20-bit hexadecimal string\n",
    "i = Bits.from_dtype(\"bytes\", b\"hello\")  # A 40-bit binary string\n",
    "j = Bits.from_dtype(\"f16\", -13.81)  # A 16-bit IEEE floating point number"
   ],
   "id": "cc8c4d8ffed830c",
   "outputs": [],
   "execution_count": 17
  },
  {
   "metadata": {},
   "cell_type": "markdown",
   "source": [
    "The first parameter of ``from_dtype`` is the data-type, which can be either a ``Dtype`` or a string that can be used to create one.\n",
    "The second parameter is a value that makes sense for that data type, which could be a binary string, a floating point number, an integer etc. depending on the ``Dtype``.\n",
    "\n",
    "Once you've created your ``Bits`` object there is a rich API for manipulating and interpreting the data.\n",
    "One fundamental thing to do is to interpret the binary data according to a format or data-type; essentially the opposite to how the ``pack`` method works."
   ],
   "id": "6e6f40aebcaf3977"
  },
  {
   "metadata": {
    "ExecuteTime": {
     "end_time": "2025-01-27T06:58:53.225373Z",
     "start_time": "2025-01-27T06:58:53.220353Z"
    }
   },
   "cell_type": "code",
   "source": [
    "print(g.unpack(\"u8\"))\n",
    "print(h.unpack([\"hex5\"]))"
   ],
   "id": "11e012bda40ec098",
   "outputs": [
    {
     "name": "stdout",
     "output_type": "stream",
     "text": [
      "65\n",
      "['abcde']\n"
     ]
    }
   ],
   "execution_count": 18
  },
  {
   "cell_type": "markdown",
   "id": "e65703e17f8e4225",
   "metadata": {},
   "source": [
    "The ``unpack`` method is quite powerful and is a bit of a sledgehammer for these simple cases, so as a shortcut you can use properties that are available for simple dtypes."
   ]
  },
  {
   "cell_type": "code",
   "id": "5351ff48f143d54",
   "metadata": {
    "ExecuteTime": {
     "end_time": "2025-01-27T06:58:54.201934Z",
     "start_time": "2025-01-27T06:58:54.197128Z"
    }
   },
   "source": [
    "assert g.u == 65\n",
    "assert h.hex == \"abcde\""
   ],
   "outputs": [],
   "execution_count": 19
  },
  {
   "cell_type": "markdown",
   "id": "18e7c3c078dbd30d",
   "metadata": {},
   "source": [
    "Of course the ``Bits`` object is just a collection of bits and doesn't know how it was created, so any interpretation that makes sense is allowed"
   ]
  },
  {
   "cell_type": "code",
   "id": "5bbb6591db1061c6",
   "metadata": {
    "ExecuteTime": {
     "end_time": "2025-01-27T06:58:55.179268Z",
     "start_time": "2025-01-27T06:58:55.173010Z"
    }
   },
   "source": [
    "print(a.unpack(\"oct\"))  # an octal string\n",
    "print(b.unpack(\"u\"))  # an unsigned int\n",
    "print(c.unpack(\"f_le64\"))  # a 64-bit little-endian IEEE floating point number)\n",
    "print(d.unpack(\"hex\"))\n",
    "print(e.unpack(\"bin\"))"
   ],
   "outputs": [
    {
     "name": "stdout",
     "output_type": "stream",
     "text": [
      "6\n",
      "703710\n",
      "8.540883223036124e+194\n",
      "41580000\n",
      "1100001\n"
     ]
    }
   ],
   "execution_count": 20
  },
  {
   "cell_type": "markdown",
   "id": "24681f65-95c1-40bb-96e1-43d204681178",
   "metadata": {},
   "source": [
    "## Constructing a Format\n",
    "\n",
    "Let's say you have a specification for a binary file type (or maybe a packet specification etc.) and you want to quickly and easily parse and create from the spec in Python. For this example I'm going to use a header from the MPEG-2 video standard. Here's how the header is described in the standard:\n",
    "\n",
    "|sequence_header() | No. of bits | Mnemonic| \n",
    "|-----------------------------------|--------------|----------|\n",
    "|sequence_header_code | 32 | bslbf |\n",
    "|horizontal_size_value | 12 | uimsbf | \n",
    "|vertical_size_value | 12 | uimsbf |\n",
    "|aspect_ratio_information | 4 | uimsbf | \n",
    "|frame_rate_code | 4 | uimsbf |\n",
    "|bit_rate_value | 18 | uimsbf | \n",
    "|marker_bit | 1 | bslbf |\n",
    "|vbv_buffer_size_value | 10 | uimsbf |\n",
    "|constrained_parameters_flag | 1 | bslbf |\n",
    "|load_intra_quantiser_matrix | 1 | uimsbf |\n",
    "\n",
    "The mnemonics mean things like uimsbf = 'Unsigned integer, most significant bit first'.\n",
    "\n",
    "Converting this to a `Format` is simple:\n"
   ]
  },
  {
   "cell_type": "code",
   "id": "18c65a86-b4c1-47a8-8cde-ff7b8f4e4345",
   "metadata": {
    "ExecuteTime": {
     "end_time": "2025-01-27T06:58:56.121800Z",
     "start_time": "2025-01-27T06:58:56.116082Z"
    }
   },
   "source": [
    "f_str = \"\"\"\n",
    "sequence_header = [\n",
    "    sequence_header_code: const hex8 = 0x000001b3,\n",
    "    horizontal_size_value: u12,\n",
    "    vertical_size_value: u12,\n",
    "    aspect_ratio_information: u4,\n",
    "    frame_rate_code: u4,\n",
    "    bit_rate_value: u18,\n",
    "    marker_bit: bool,\n",
    "    vbv_buffer_size_value: u10,\n",
    "    constrained_parameters_flag: bool,\n",
    "    load_intra_quantiser_matrix: u1\n",
    "]\n",
    "\"\"\"\n",
    "f = Format(f_str)"
   ],
   "outputs": [],
   "execution_count": 21
  },
  {
   "cell_type": "markdown",
   "id": "2f6c3da8-c848-4eea-8537-586f3938a7f4",
   "metadata": {},
   "source": [
    "Here we created the `Format` from a single string, containing comma separated fields. This is often convenient, and allows easy storage of formats, but parameterised creation methods are also available for both the fields and the format.\n",
    "\n",
    "We have set the first field to be a `const`, meaning that its value should not be changed. For the other fields we can give them values manually with the `pack` method:"
   ]
  },
  {
   "cell_type": "code",
   "id": "2720f116-d509-4927-842e-3446cb40f5f4",
   "metadata": {
    "scrolled": true,
    "ExecuteTime": {
     "end_time": "2025-01-27T06:58:57.088079Z",
     "start_time": "2025-01-27T06:58:57.082930Z"
    }
   },
   "source": [
    "f.pack([352, 288, 0, 1, 104000, 1, 880, 0, 1])\n",
    "print(f)"
   ],
   "outputs": [
    {
     "name": "stdout",
     "output_type": "stream",
     "text": [
      "\u001B[32msequence_header\u001B[0m = (\n",
      "    \u001B[32msequence_header_code\u001B[0m: \u001B[35mconst hex8\u001B[0m = \u001B[36m000001b3\u001B[0m\n",
      "    \u001B[32mhorizontal_size_value\u001B[0m: \u001B[35mu12\u001B[0m = \u001B[36m352\u001B[0m\n",
      "    \u001B[32mvertical_size_value\u001B[0m: \u001B[35mu12\u001B[0m = \u001B[36m288\u001B[0m\n",
      "    \u001B[32maspect_ratio_information\u001B[0m: \u001B[35mu4\u001B[0m = \u001B[36m0\u001B[0m\n",
      "    \u001B[32mframe_rate_code\u001B[0m: \u001B[35mu4\u001B[0m = \u001B[36m1\u001B[0m\n",
      "    \u001B[32mbit_rate_value\u001B[0m: \u001B[35mu18\u001B[0m = \u001B[36m104000\u001B[0m\n",
      "    \u001B[32mmarker_bit\u001B[0m: \u001B[35mbool\u001B[0m = \u001B[36mTrue\u001B[0m\n",
      "    \u001B[32mvbv_buffer_size_value\u001B[0m: \u001B[35mu10\u001B[0m = \u001B[36m880\u001B[0m\n",
      "    \u001B[32mconstrained_parameters_flag\u001B[0m: \u001B[35mbool\u001B[0m = \u001B[36mFalse\u001B[0m\n",
      "    \u001B[32mload_intra_quantiser_matrix\u001B[0m: \u001B[35mu1\u001B[0m = \u001B[36m1\u001B[0m\n",
      ")\n"
     ]
    }
   ],
   "execution_count": 22
  },
  {
   "cell_type": "markdown",
   "id": "5082c2ce-310e-45d0-8460-90fe5adecd9d",
   "metadata": {},
   "source": [
    "We can now query and modify the values directly, and output the data as a `Bits`, or convert it to a `bytes` object."
   ]
  },
  {
   "cell_type": "code",
   "id": "66e47d06-b52f-4d47-a6ff-06932443663f",
   "metadata": {
    "ExecuteTime": {
     "end_time": "2025-01-27T06:58:58.043211Z",
     "start_time": "2025-01-27T06:58:58.038616Z"
    }
   },
   "source": [
    "assert f[\"marker_bit\"].value is True\n",
    "f[\"bit_rate_value\"].value /= 4\n",
    "b = f.to_bytes()\n",
    "print(b)"
   ],
   "outputs": [
    {
     "name": "stdout",
     "output_type": "stream",
     "text": [
      "b'\\x00\\x00\\x01\\xb3\\x16\\x01 \\x01\\x19d;\\x82'\n"
     ]
    }
   ],
   "execution_count": 23
  },
  {
   "cell_type": "markdown",
   "id": "85b0bad5-af02-4d1b-aea0-abc4a17d758b",
   "metadata": {},
   "source": [
    "The `Format` works symmetrically, so can be used to parse as well as create binary data.\n",
    "So if we first clear the data (which removes everything except the const field) we can now parse the bytes we just created and check that the change we made to the `bit_rate_value` field was indeed correctly encoded."
   ]
  },
  {
   "cell_type": "code",
   "id": "a5d48d44-b53f-442b-8ebc-b8336fd8e323",
   "metadata": {
    "ExecuteTime": {
     "end_time": "2025-01-27T06:58:58.956189Z",
     "start_time": "2025-01-27T06:58:58.951293Z"
    }
   },
   "source": [
    "f.clear()\n",
    "f.parse(b)\n",
    "print(f)"
   ],
   "outputs": [
    {
     "name": "stdout",
     "output_type": "stream",
     "text": [
      "\u001B[32msequence_header\u001B[0m = (\n",
      "    \u001B[32msequence_header_code\u001B[0m: \u001B[35mconst hex8\u001B[0m = \u001B[36m000001b3\u001B[0m\n",
      "    \u001B[32mhorizontal_size_value\u001B[0m: \u001B[35mu12\u001B[0m = \u001B[36m352\u001B[0m\n",
      "    \u001B[32mvertical_size_value\u001B[0m: \u001B[35mu12\u001B[0m = \u001B[36m288\u001B[0m\n",
      "    \u001B[32maspect_ratio_information\u001B[0m: \u001B[35mu4\u001B[0m = \u001B[36m0\u001B[0m\n",
      "    \u001B[32mframe_rate_code\u001B[0m: \u001B[35mu4\u001B[0m = \u001B[36m1\u001B[0m\n",
      "    \u001B[32mbit_rate_value\u001B[0m: \u001B[35mu18\u001B[0m = \u001B[36m26000\u001B[0m\n",
      "    \u001B[32mmarker_bit\u001B[0m: \u001B[35mbool\u001B[0m = \u001B[36mTrue\u001B[0m\n",
      "    \u001B[32mvbv_buffer_size_value\u001B[0m: \u001B[35mu10\u001B[0m = \u001B[36m880\u001B[0m\n",
      "    \u001B[32mconstrained_parameters_flag\u001B[0m: \u001B[35mbool\u001B[0m = \u001B[36mFalse\u001B[0m\n",
      "    \u001B[32mload_intra_quantiser_matrix\u001B[0m: \u001B[35mu1\u001B[0m = \u001B[36m1\u001B[0m\n",
      ")\n"
     ]
    }
   ],
   "execution_count": 24
  },
  {
   "cell_type": "markdown",
   "id": "f8fc987c-8100-4532-b201-819e6b729741",
   "metadata": {},
   "source": [
    "# Worked Examples\n",
    "Below are a few examples of using the bitformat module, as I always find that a good example can help more than a lengthy reference manual.\n",
    "\n",
    "## Hamming distance\n",
    "The Hamming distance between two bitstrings is the number of bit positions in which the two bitstrings differ. So for example the distance between `0b00110` and `0b01100` is 2 as the second and fourth bits are different.\n",
    "\n",
    "Let's write a function that calculates the Hamming weight of two equal length `Bits`."
   ]
  },
  {
   "cell_type": "code",
   "id": "747a972f-0271-4b17-bc56-22068bfb3054",
   "metadata": {
    "ExecuteTime": {
     "end_time": "2025-01-27T06:58:59.869190Z",
     "start_time": "2025-01-27T06:58:59.863495Z"
    }
   },
   "source": [
    "def hamming_weight(a, b):\n",
    "    return (Bits(a) ^ b).count(True)\n",
    "\n",
    "\n",
    "hamming_weight(\"0b00110\", \"0b01100\")"
   ],
   "outputs": [
    {
     "data": {
      "text/plain": [
       "2"
      ]
     },
     "execution_count": 25,
     "metadata": {},
     "output_type": "execute_result"
    }
   ],
   "execution_count": 25
  },
  {
   "cell_type": "markdown",
   "id": "24473436-ba2d-4beb-8b50-8cb2e355d9c0",
   "metadata": {},
   "source": [
    "Er, that's it. The `^` is a bit-wise exclusive or, which means that the bits in `a^b` are only set if they differ in `a` and `b`. The `count` method just counts the number of 1 (or True) bits."
   ]
  },
  {
   "cell_type": "markdown",
   "id": "d471d06f-9735-4956-9d2a-2997f78f6d2f",
   "metadata": {},
   "source": [
    "## Sieve of Eratosthenes\n",
    "\n",
    "The sieve of Eratosthenes is an ancient (and very inefficient) method of finding prime numbers. The algorithm starts with the number 2 (which is prime) and marks all of its multiples as not prime, it then continues with the next unmarked integer (which will also be prime) and marks all of its multiples as not prime.\n",
    "\n",
    "\n",
    "So to find all primes under a hundred million you could write:"
   ]
  },
  {
   "cell_type": "code",
   "id": "b36a7c6e-b19d-418c-b08f-138c512c2fb8",
   "metadata": {
    "ExecuteTime": {
     "end_time": "2025-01-27T06:59:21.640366Z",
     "start_time": "2025-01-27T06:59:00.784808Z"
    }
   },
   "source": [
    "import math\n",
    "\n",
    "# Create a Bits with a hundred million 'one' bits\n",
    "limit = 100_000_000\n",
    "is_prime = Bits.from_ones(limit)\n",
    "# Manually set 0 and 1 to be not prime.\n",
    "is_prime = is_prime.set(False, [0, 1])\n",
    "# For every other integer, if it's set as prime then unset all of its multiples\n",
    "for i in range(2, math.ceil(math.sqrt(limit))):\n",
    "    if is_prime[i]:\n",
    "        is_prime = is_prime.set(False, range(i * i, limit, i))\n",
    "\n",
    "print(f\"There are {is_prime.count(True)} primes less than {limit},\")\n",
    "print(f\"the largest one of which is {is_prime.rfind('0b1')}\")\n",
    "print(f\"and there are {len(list(is_prime.find_all('0b101')))} twin primes.\")"
   ],
   "outputs": [
    {
     "name": "stdout",
     "output_type": "stream",
     "text": [
      "There are 5761455 primes less than 100000000,\n",
      "the largest one of which is 99999989\n",
      "and there are 440312 twin primes.\n"
     ]
    }
   ],
   "execution_count": 26
  },
  {
   "cell_type": "markdown",
   "id": "d16aad21-311b-4eee-ab72-03b79532431d",
   "metadata": {},
   "source": [
    "We find the largest prime with a reverse find (`rfind`) looking for a single set bit. For twin primes (primes which differ by 2) we use `find_all` to look for the binary sequence 101 which returns a generator for the bit positions.\n",
    "\n",
    "To see the pattern of the primes we could use the pretty print method:"
   ]
  },
  {
   "cell_type": "code",
   "id": "fe303d2f-9828-47e5-ab23-c22ac088e207",
   "metadata": {
    "ExecuteTime": {
     "end_time": "2025-01-27T06:59:22.573233Z",
     "start_time": "2025-01-27T06:59:22.567045Z"
    }
   },
   "source": "is_prime[0:1000].pp()",
   "outputs": [
    {
     "name": "stdout",
     "output_type": "stream",
     "text": [
      "<Bits, dtype1='\u001B[35mbin\u001B[0m', dtype2='\u001B[34mhex\u001B[0m', length=\u001B[32m1000\u001B[0m bits> [\n",
      "\u001B[32m   0: \u001B[0m\u001B[35m00110101 00010100 01010001 00000101 00000100 01010001\u001B[0m : \u001B[34m35 14 51 05 04 51\u001B[0m\n",
      "\u001B[32m  48: \u001B[0m\u001B[35m00000100 00010100 00010001 01000001 00010000 01000000\u001B[0m : \u001B[34m04 14 11 41 10 40\u001B[0m\n",
      "\u001B[32m  96: \u001B[0m\u001B[35m01000101 00010100 01000000 00000001 00010000 01010000\u001B[0m : \u001B[34m45 14 40 01 10 50\u001B[0m\n",
      "\u001B[32m 144: \u001B[0m\u001B[35m00000101 00000100 00010001 00000100 00010100 00000001\u001B[0m : \u001B[34m05 04 11 04 14 01\u001B[0m\n",
      "\u001B[32m 192: \u001B[0m\u001B[35m01000101 00000000 00010000 00000001 00010100 01000001\u001B[0m : \u001B[34m45 00 10 01 14 41\u001B[0m\n",
      "\u001B[32m 240: \u001B[0m\u001B[35m01000000 00010000 01000001 00000101 00000100 01010000\u001B[0m : \u001B[34m40 10 41 05 04 50\u001B[0m\n",
      "\u001B[32m 288: \u001B[0m\u001B[35m00000100 00000000 00010001 01000100 00000000 00010000\u001B[0m : \u001B[34m04 00 11 44 00 10\u001B[0m\n",
      "\u001B[32m 336: \u001B[0m\u001B[35m01000000 00010100 01000001 00000001 00000100 00010001\u001B[0m : \u001B[34m40 14 41 01 04 11\u001B[0m\n",
      "\u001B[32m 384: \u001B[0m\u001B[35m00000100 00000100 01000000 01000000 00010100 00000001\u001B[0m : \u001B[34m04 04 40 40 14 01\u001B[0m\n",
      "\u001B[32m 432: \u001B[0m\u001B[35m01000001 00010000 01000000 01000101 00010000 00000001\u001B[0m : \u001B[34m41 10 40 45 10 01\u001B[0m\n",
      "\u001B[32m 480: \u001B[0m\u001B[35m00000001 00010000 00010001 00000100 00000000 01010000\u001B[0m : \u001B[34m01 10 11 04 00 50\u001B[0m\n",
      "\u001B[32m 528: \u001B[0m\u001B[35m00000000 00000100 00010000 00000100 00010000 01010000\u001B[0m : \u001B[34m00 04 10 04 10 50\u001B[0m\n",
      "\u001B[32m 576: \u001B[0m\u001B[35m01000000 00010000 01000001 01000001 00000100 01010000\u001B[0m : \u001B[34m40 10 41 41 04 50\u001B[0m\n",
      "\u001B[32m 624: \u001B[0m\u001B[35m00000001 00000000 01010001 00000100 00010100 00000000\u001B[0m : \u001B[34m01 00 51 04 14 00\u001B[0m\n",
      "\u001B[32m 672: \u001B[0m\u001B[35m01000100 00010000 00010000 00000100 00000100 00000001\u001B[0m : \u001B[34m44 10 10 04 04 01\u001B[0m\n",
      "\u001B[32m 720: \u001B[0m\u001B[35m00000001 00000100 00010001 00000001 00000100 01000000\u001B[0m : \u001B[34m01 04 11 01 04 40\u001B[0m\n",
      "\u001B[32m 768: \u001B[0m\u001B[35m01000100 00000000 00010000 00000100 00000000 01010000\u001B[0m : \u001B[34m44 00 10 04 00 50\u001B[0m\n",
      "\u001B[32m 816: \u001B[0m\u001B[35m00000101 00010100 00000001 00000000 00000100 01010001\u001B[0m : \u001B[34m05 14 01 00 04 51\u001B[0m\n",
      "\u001B[32m 864: \u001B[0m\u001B[35m00000000 00000100 01010001 00000000 00000000 00010001\u001B[0m : \u001B[34m00 04 51 00 00 11\u001B[0m\n",
      "\u001B[32m 912: \u001B[0m\u001B[35m00000001 00000000 01000000 01000100 00010000 01000000\u001B[0m : \u001B[34m01 00 40 44 10 40\u001B[0m\n",
      "\u001B[32m 960: \u001B[0m\u001B[35m00000001 00010000 01000001 00000001 00000100\u001B[0m          : \u001B[34m01 10 41 01 04\u001B[0m   \n",
      "]\n"
     ]
    }
   ],
   "execution_count": 27
  },
  {
   "cell_type": "markdown",
   "id": "32f7e955-6fa1-4c61-9b20-f6631aa2c619",
   "metadata": {},
   "source": [
    "I'll leave optimising the algorithm as an exercise for the reader, but it illustrates both bit checking and setting. One reason you might want to use bitformat for this purpose (instead of a plain list for example) is that a billion bits only take up a billion bits in memory, whereas for a list of integers it would be much more."
   ]
  }
 ],
 "metadata": {
  "kernelspec": {
   "display_name": "Python 3 (ipykernel)",
   "language": "python",
   "name": "python3"
  },
  "language_info": {
   "codemirror_mode": {
    "name": "ipython",
    "version": 3
   },
   "file_extension": ".py",
   "mimetype": "text/x-python",
   "name": "python",
   "nbconvert_exporter": "python",
   "pygments_lexer": "ipython3",
   "version": "3.12.3"
  }
 },
 "nbformat": 4,
 "nbformat_minor": 5
}
