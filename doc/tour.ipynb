{
 "cells": [
  {
   "cell_type": "markdown",
   "id": "1d9bb04d1bf321c3",
   "metadata": {},
   "source": [
    "# A Tour of bitformat\n",
    "\n",
    "A number of classes are available in bitformat to store and manipulate binary data.\n",
    "\n",
    "* ``Bits`` - An immutable container of binary data.\n",
    "* ``Dtype`` - A data type that gives an interpretation to binary data.\n",
    "* ``Array`` - A container for contiguously allocated `Bits` objects with the same `Dtype`.\n",
    "\n",
    "These are the building blocks for more complex fields that can be used to make a binary format.\n",
    "\n",
    "* ``Field`` - Either one value or an array, with a single data type, with an optional name and value.\n",
    "* ``Format`` - A sequence of other FieldTypes, with an optional name.\n",
    "\n",
    "For this tour we'll first install `bitformat` and import these classes::\n"
   ]
  },
  {
   "cell_type": "code",
   "execution_count": 1,
   "id": "8e03b8012da3337d",
   "metadata": {},
   "outputs": [],
   "source": [
    "%%capture\n",
    "!pip install git+https://github.com/scott-griffiths/bitformat\n",
    "from bitformat import Bits, Dtype, Array, Field, Format"
   ]
  },
  {
   "cell_type": "markdown",
   "id": "acb299bdc01542f6",
   "metadata": {},
   "source": [
    "Note that we are pip installing directly from the repository, as the library is still in alpha so PyPI probably won't have the latest version.\n",
    "\n",
    "## Bits\n",
    "\n",
    "The ``Bits`` class represents an immutable sequence of bits, similar to how the built-in ``bytes`` is an immutable sequence of bytes,\n",
    "and a ``str`` is an immutable sequence of characters.\n",
    "\n",
    "There are several builder class methods used to create ``Bits`` objects.\n",
    "\n",
    "| Method name           | Description                                |\n",
    "|-----------------------|--------------------------------------------|\n",
    "| `Bits.pack(dtype, value)` | Combine a data type with a value.        |\n",
    "| `Bits.from_string(s)` | Use a formatted string.                    |\n",
    "| `Bits.from_bytes(b)`  | Directly from a `bytes` object.            |\n",
    "| `Bits.from_iterable(i)` | Converts each element to a single bit.    |\n",
    "| `Bits.zeros(n)`       | Initialise with zero bits.                 |\n",
    "| `Bits.ones(n)`        | Initialise with one bits.                  |\n",
    "| `Bits.join(iterable)` | Concatenate from an iterable such as a list.|\n",
    "\n",
    "\n",
    "The ``Bits`` constructor can be used as a shortcut for the ``from_string`` method, so ``Bits(s)`` and ``Bits.from_string(s)`` are equivalent.\n",
    "\n",
    "Creating from a string is often convenient and quite powerful.\n",
    "The string can be a binary, octal or hexadecimal literal by starting with ``'0b'``, ``'0o'`` or ``'0x'`` respectively.\n",
    "It can be a string that uses various data types of integer or floating point values, and it can be a sequence of tokens separated by commas. ::"
   ]
  },
  {
   "cell_type": "code",
   "execution_count": 2,
   "id": "53c713fcc45e4e5a",
   "metadata": {},
   "outputs": [],
   "source": [
    "a = Bits('0b110')  # A 3-bit binary string\n",
    "b = Bits('0xabcde')  # A 20-bit hexadecimal string\n",
    "c = Bits('bytes=b\"abcdefgh\"') # An 8 byte bytes object\n",
    "d = Bits('f32=13.5')  # A 32-bit IEEE floating point number\n",
    "e = Bits('i7=-31')  # A 7-bit signed integer\n",
    "f = Bits('0b001, u32=90, 0x5e')  # Three Bits objects concatenated together"
   ]
  },
  {
   "cell_type": "markdown",
   "id": "7d1db6101161757",
   "metadata": {},
   "source": [
    "\n",
    "Finally a data type can be used to create a `Bits` object by using the `pack` class method. ::"
   ]
  },
  {
   "cell_type": "code",
   "execution_count": 3,
   "id": "396522c67c8e64cf",
   "metadata": {},
   "outputs": [],
   "source": [
    "g = Bits.pack('u8', 65)  # An 8-bit unsigned integer with the value 65\n",
    "h = Bits.pack('hex', 'abcde')  # A 20-bit hexadecimal string\n",
    "i = Bits.pack('bytes', b'hello')  # A 40-bit binary string\n",
    "j = Bits.pack('f16', -13.81)  # A 16-bit IEEE floating point number"
   ]
  },
  {
   "cell_type": "markdown",
   "id": "3ce28a71de077681",
   "metadata": {},
   "source": [
    "\n",
    "\n",
    "The first parameter of ``pack`` is the data-type, which can be either a ``Dtype`` or a string that can be used to create one.\n",
    "The second parameter is a value that makes sense for that data type, which could be a binary string, a floating point number, an integer etc. depending on the ``Dtype``.\n",
    "\n",
    "Once you've created your ``Bits`` object there is a rich API for manipulating and interpreting the data.\n",
    "One fundamental thing to do is to interpret the binary data according to a format or data-type; essentially the opposite to how the ``pack`` method works. ::"
   ]
  },
  {
   "cell_type": "code",
   "execution_count": 4,
   "id": "d3d60f076765ee43",
   "metadata": {},
   "outputs": [
    {
     "data": {
      "text/plain": [
       "65"
      ]
     },
     "execution_count": 4,
     "metadata": {},
     "output_type": "execute_result"
    }
   ],
   "source": [
    "g.unpack('u8')  # Returns 65"
   ]
  },
  {
   "cell_type": "code",
   "execution_count": 5,
   "id": "2b95335d85f58623",
   "metadata": {},
   "outputs": [
    {
     "data": {
      "text/plain": [
       "['abcde']"
      ]
     },
     "execution_count": 5,
     "metadata": {},
     "output_type": "execute_result"
    }
   ],
   "source": [
    "h.unpack(['hex20'])  # Returns ['abcde']"
   ]
  },
  {
   "cell_type": "markdown",
   "id": "e65703e17f8e4225",
   "metadata": {},
   "source": [
    "The ``unpack`` method is quite powerful and is a bit of a sledgehammer for these simple cases, so as a shortcut you can use properties that are available for simple dtypes."
   ]
  },
  {
   "cell_type": "code",
   "execution_count": 6,
   "id": "5351ff48f143d54",
   "metadata": {},
   "outputs": [
    {
     "data": {
      "text/plain": [
       "65"
      ]
     },
     "execution_count": 6,
     "metadata": {},
     "output_type": "execute_result"
    }
   ],
   "source": [
    "g.u"
   ]
  },
  {
   "cell_type": "code",
   "execution_count": 7,
   "id": "49f1de3af66f0ab5",
   "metadata": {},
   "outputs": [
    {
     "data": {
      "text/plain": [
       "'abcde'"
      ]
     },
     "execution_count": 7,
     "metadata": {},
     "output_type": "execute_result"
    }
   ],
   "source": [
    "h.hex"
   ]
  },
  {
   "cell_type": "markdown",
   "id": "18e7c3c078dbd30d",
   "metadata": {},
   "source": [
    "Of course the ``Bits`` object is just a collection of bits and doesn't know how it was created, so any interpretation that makes sense is allowed"
   ]
  },
  {
   "cell_type": "code",
   "execution_count": 8,
   "id": "5bbb6591db1061c6",
   "metadata": {},
   "outputs": [
    {
     "data": {
      "text/plain": [
       "'6'"
      ]
     },
     "execution_count": 8,
     "metadata": {},
     "output_type": "execute_result"
    }
   ],
   "source": [
    "a.unpack('oct')  # an octal string"
   ]
  },
  {
   "cell_type": "code",
   "execution_count": 9,
   "id": "2a6d64b74cd5f10d",
   "metadata": {},
   "outputs": [
    {
     "data": {
      "text/plain": [
       "703710"
      ]
     },
     "execution_count": 9,
     "metadata": {},
     "output_type": "execute_result"
    }
   ],
   "source": [
    "b.unpack('u')  # an unsigned int"
   ]
  },
  {
   "cell_type": "code",
   "execution_count": 10,
   "id": "5235359fac0144a",
   "metadata": {},
   "outputs": [
    {
     "data": {
      "text/plain": [
       "8.540883223036124e+194"
      ]
     },
     "execution_count": 10,
     "metadata": {},
     "output_type": "execute_result"
    }
   ],
   "source": [
    "c.unpack('f_le64')  # a 64-bit little-endian IEEE floating point number"
   ]
  },
  {
   "cell_type": "code",
   "execution_count": 11,
   "id": "199650c92f381c39",
   "metadata": {},
   "outputs": [
    {
     "data": {
      "text/plain": [
       "'41580000'"
      ]
     },
     "execution_count": 11,
     "metadata": {},
     "output_type": "execute_result"
    }
   ],
   "source": [
    "d.unpack('hex')"
   ]
  },
  {
   "cell_type": "code",
   "execution_count": 12,
   "id": "f3bd5ac935c3e894",
   "metadata": {
    "ExecuteTime": {
     "end_time": "2024-08-30T19:41:02.583882Z",
     "start_time": "2024-08-30T19:41:02.565546Z"
    }
   },
   "outputs": [
    {
     "data": {
      "text/plain": [
       "'1100001'"
      ]
     },
     "execution_count": 12,
     "metadata": {},
     "output_type": "execute_result"
    }
   ],
   "source": [
    "e.unpack('bin')"
   ]
  },
  {
   "cell_type": "markdown",
   "id": "24681f65-95c1-40bb-96e1-43d204681178",
   "metadata": {},
   "source": [
    "## Constructing a Format\n",
    "\n",
    "Let's say you have a specification for a binary file type (or maybe a packet specification etc.) and you want to quickly and easily parse and create from the spec in Python. For this example I'm going to use a header from the MPEG-2 video standard. Here's how the header is described in the standard:\n",
    "\n",
    "|sequence_header() | No. of bits | Mnemonic| \n",
    "|-----------------------------------|--------------|----------|\n",
    "|sequence_header_code | 32 | bslbf |\n",
    "|horizontal_size_value | 12 | uimsbf | \n",
    "|vertical_size_value | 12 | uimsbf |\n",
    "|aspect_ratio_information | 4 | uimsbf | \n",
    "|frame_rate_code | 4 | uimsbf |\n",
    "|bit_rate_value | 18 | uimsbf | \n",
    "|marker_bit | 1 | bslbf |\n",
    "|vbv_buffer_size_value | 10 | uimsbf |\n",
    "|constrained_parameters_flag | 1 | bslbf |\n",
    "|load_intra_quantiser_matrix | 1 | uimsbf |\n",
    "\n",
    "The mnemonics mean things like uimsbf = 'Unsigned integer, most significant bit first'.\n",
    "\n",
    "Converting this to a `Format` is simple:\n"
   ]
  },
  {
   "cell_type": "code",
   "execution_count": 13,
   "id": "18c65a86-b4c1-47a8-8cde-ff7b8f4e4345",
   "metadata": {},
   "outputs": [],
   "source": [
    "f_str = \"\"\"\n",
    "sequence_header: [\n",
    "    sequence_header_code: const hex32 = 0x000001b3,\n",
    "    horizontal_size_value: u12,\n",
    "    vertical_size_value: u12,\n",
    "    aspect_ratio_information: u4,\n",
    "    frame_rate_code: u4,\n",
    "    bit_rate_value: u18,\n",
    "    marker_bit: bool,\n",
    "    vbv_buffer_size_value: u10,\n",
    "    constrained_parameters_flag: bool,\n",
    "    load_intra_quantiser_matrix: u1\n",
    "]\n",
    "\"\"\"\n",
    "f = Format(f_str)          "
   ]
  },
  {
   "cell_type": "markdown",
   "id": "2f6c3da8-c848-4eea-8537-586f3938a7f4",
   "metadata": {},
   "source": [
    "Here we created the `Format` from a single string, containing comma separated fields. This is often convenient, and allows easy storage of formats, but parameterised creation methods are also available for both the fields and the format.\n",
    "\n",
    "We have set the first field to be a `const`, meaning that its value should not be changed. For the other fields we can give them values manually with the `pack` method:"
   ]
  },
  {
   "cell_type": "code",
   "execution_count": 14,
   "id": "2720f116-d509-4927-842e-3446cb40f5f4",
   "metadata": {},
   "outputs": [
    {
     "name": "stdout",
     "output_type": "stream",
     "text": [
      "\u001b[32msequence_header\u001b[0m: [\n",
      "    \u001b[32msequence_header_code\u001b[0m: \u001b[35mconst hex32\u001b[0m = \u001b[36m000001b3\u001b[0m,\n",
      "    \u001b[32mhorizontal_size_value\u001b[0m: \u001b[35mu12\u001b[0m = \u001b[36m352\u001b[0m,\n",
      "    \u001b[32mvertical_size_value\u001b[0m: \u001b[35mu12\u001b[0m = \u001b[36m288\u001b[0m,\n",
      "    \u001b[32maspect_ratio_information\u001b[0m: \u001b[35mu4\u001b[0m = \u001b[36m0\u001b[0m,\n",
      "    \u001b[32mframe_rate_code\u001b[0m: \u001b[35mu4\u001b[0m = \u001b[36m1\u001b[0m,\n",
      "    \u001b[32mbit_rate_value\u001b[0m: \u001b[35mu18\u001b[0m = \u001b[36m104000\u001b[0m,\n",
      "    \u001b[32mmarker_bit\u001b[0m: \u001b[35mbool\u001b[0m = \u001b[36mTrue\u001b[0m,\n",
      "    \u001b[32mvbv_buffer_size_value\u001b[0m: \u001b[35mu10\u001b[0m = \u001b[36m880\u001b[0m,\n",
      "    \u001b[32mconstrained_parameters_flag\u001b[0m: \u001b[35mbool\u001b[0m = \u001b[36mFalse\u001b[0m,\n",
      "    \u001b[32mload_intra_quantiser_matrix\u001b[0m: \u001b[35mu1\u001b[0m = \u001b[36m1\u001b[0m\n",
      "]\n"
     ]
    }
   ],
   "source": [
    "f.pack([352, 288, 0, 1, 104000, True, 880, False, 1])\n",
    "print(f)"
   ]
  },
  {
   "cell_type": "markdown",
   "id": "5082c2ce-310e-45d0-8460-90fe5adecd9d",
   "metadata": {},
   "source": [
    "We can now query and modify the values directly, and output it as a `Bits`, or convert to `bytes`"
   ]
  },
  {
   "cell_type": "code",
   "execution_count": 15,
   "id": "66e47d06-b52f-4d47-a6ff-06932443663f",
   "metadata": {},
   "outputs": [
    {
     "name": "stdout",
     "output_type": "stream",
     "text": [
      "b'\\x00\\x00\\x01\\xb3\\x16\\x01 \\x01\\x19d;\\x82'\n"
     ]
    }
   ],
   "source": [
    "f['bit_rate_value'].value /= 4\n",
    "b = f.to_bytes()\n",
    "print(b)"
   ]
  },
  {
   "cell_type": "markdown",
   "id": "85b0bad5-af02-4d1b-aea0-abc4a17d758b",
   "metadata": {},
   "source": [
    "The `Format` works symmetrically, so can be used to parse as well as create binary data.\n",
    "So if we first clear the data (which removes everything except the const field) we can now parse the bytes we just created and check that the change we made to the `bit_rate_value` field was indeed correctly encoded."
   ]
  },
  {
   "cell_type": "code",
   "execution_count": 16,
   "id": "a5d48d44-b53f-442b-8ebc-b8336fd8e323",
   "metadata": {},
   "outputs": [
    {
     "name": "stdout",
     "output_type": "stream",
     "text": [
      "\u001b[32msequence_header\u001b[0m: [\n",
      "    \u001b[32msequence_header_code\u001b[0m: \u001b[35mconst hex32\u001b[0m = \u001b[36m000001b3\u001b[0m,\n",
      "    \u001b[32mhorizontal_size_value\u001b[0m: \u001b[35mu12\u001b[0m = \u001b[36m352\u001b[0m,\n",
      "    \u001b[32mvertical_size_value\u001b[0m: \u001b[35mu12\u001b[0m = \u001b[36m288\u001b[0m,\n",
      "    \u001b[32maspect_ratio_information\u001b[0m: \u001b[35mu4\u001b[0m = \u001b[36m0\u001b[0m,\n",
      "    \u001b[32mframe_rate_code\u001b[0m: \u001b[35mu4\u001b[0m = \u001b[36m1\u001b[0m,\n",
      "    \u001b[32mbit_rate_value\u001b[0m: \u001b[35mu18\u001b[0m = \u001b[36m26000\u001b[0m,\n",
      "    \u001b[32mmarker_bit\u001b[0m: \u001b[35mbool\u001b[0m = \u001b[36mTrue\u001b[0m,\n",
      "    \u001b[32mvbv_buffer_size_value\u001b[0m: \u001b[35mu10\u001b[0m = \u001b[36m880\u001b[0m,\n",
      "    \u001b[32mconstrained_parameters_flag\u001b[0m: \u001b[35mbool\u001b[0m = \u001b[36mFalse\u001b[0m,\n",
      "    \u001b[32mload_intra_quantiser_matrix\u001b[0m: \u001b[35mu1\u001b[0m = \u001b[36m1\u001b[0m\n",
      "]\n"
     ]
    }
   ],
   "source": [
    "f.clear()\n",
    "f.parse(b)\n",
    "print(f)"
   ]
  },
  {
   "cell_type": "markdown",
   "id": "f8fc987c-8100-4532-b201-819e6b729741",
   "metadata": {},
   "source": [
    "# Worked Examples\n",
    "Below are a few examples of using the bitformat module, as I always find that a good example can help more than a lengthy reference manual.\n",
    "\n",
    "## Hamming distance\n",
    "The Hamming distance between two bitstrings is the number of bit positions in which the two bitstrings differ. So for example the distance between 0b00110 and 0b01100 is 2 as the second and fourth bits are different.\n",
    "\n",
    "Let's write a function that calculates the Hamming weight of two bitstrings."
   ]
  },
  {
   "cell_type": "code",
   "execution_count": 17,
   "id": "747a972f-0271-4b17-bc56-22068bfb3054",
   "metadata": {},
   "outputs": [
    {
     "data": {
      "text/plain": [
       "2"
      ]
     },
     "execution_count": 17,
     "metadata": {},
     "output_type": "execute_result"
    }
   ],
   "source": [
    "def hamming_weight(a, b):\n",
    "    return (Bits(a)^b).count(True)\n",
    "\n",
    "hamming_weight('0b00110', '0b01100')"
   ]
  },
  {
   "cell_type": "markdown",
   "id": "24473436-ba2d-4beb-8b50-8cb2e355d9c0",
   "metadata": {},
   "source": [
    "Er, that's it. The `^` is a bit-wise exclusive or, which means that the bits in `a^b` are only set if they differ in `a` and `b`. The `count` method just counts the number of 1 (or True) bits."
   ]
  },
  {
   "cell_type": "markdown",
   "id": "d471d06f-9735-4956-9d2a-2997f78f6d2f",
   "metadata": {},
   "source": [
    "## Sieve of Eratosthenes\n",
    "\n",
    "The sieve of Eratosthenes is an ancient (and very inefficient) method of finding prime numbers. The algorithm starts with the number 2 (which is prime) and marks all of its multiples as not prime, it then continues with the next unmarked integer (which will also be prime) and marks all of its multiples as not prime.\n",
    "\n",
    "\n",
    "So to find all primes under a hundred million you could write:"
   ]
  },
  {
   "cell_type": "code",
   "execution_count": 21,
   "id": "b36a7c6e-b19d-418c-b08f-138c512c2fb8",
   "metadata": {},
   "outputs": [
    {
     "name": "stdout",
     "output_type": "stream",
     "text": [
      "There are 5761455 primes less than 100000000,\n",
      "the largest one of which is 99999989\n",
      "and there are 440312 twin primes.\n"
     ]
    }
   ],
   "source": [
    "import math\n",
    "\n",
    "# Create a Bits with a hundred million 'one' bits\n",
    "limit = 100_000_000\n",
    "is_prime = Bits.ones(limit)\n",
    "# Manually set 0 and 1 to be not prime.\n",
    "is_prime = is_prime.set(False, [0, 1])\n",
    "# For every other integer, if it's set as prime then unset all of its multiples\n",
    "for i in range(2, math.ceil(math.sqrt(limit))):\n",
    "    if is_prime[i]:\n",
    "        is_prime = is_prime.set(False, range(i*i, limit, i))\n",
    "\n",
    "print(f\"There are {is_prime.count(True)} primes less than {limit},\")\n",
    "print(f\"the largest one of which is {is_prime.rfind('0b1')}\")\n",
    "print(f\"and there are {len(list(is_prime.find_all('0b101')))} twin primes.\")"
   ]
  },
  {
   "cell_type": "markdown",
   "id": "d16aad21-311b-4eee-ab72-03b79532431d",
   "metadata": {},
   "source": [
    "We find the largest prime with a reverse find (`rfind`) looking for a single set bit. For twin primes (primes which differ by 2) we use `find_all` to look for the binary sequence 101 which returns a generator for the bit positions.\n",
    "\n",
    "To see the pattern of the primes we could use the pretty print method:"
   ]
  },
  {
   "cell_type": "code",
   "execution_count": 29,
   "id": "fe303d2f-9828-47e5-ab23-c22ac088e207",
   "metadata": {},
   "outputs": [],
   "source": [
    "is_prime[0:1000].pp()"
   ]
  },
  {
   "cell_type": "markdown",
   "id": "32f7e955-6fa1-4c61-9b20-f6631aa2c619",
   "metadata": {},
   "source": [
    "I'll leave optimising the algorithm as an exercise for the reader, but it illustrates both bit checking and setting. One reason you might want to use bitformat for this purpose (instead of a plain list for example) is that the million bits only take up a million bits in memory, whereas for a list of integers it would be much more."
   ]
  }
 ],
 "metadata": {
  "kernelspec": {
   "display_name": "Python 3 (ipykernel)",
   "language": "python",
   "name": "python3"
  },
  "language_info": {
   "codemirror_mode": {
    "name": "ipython",
    "version": 3
   },
   "file_extension": ".py",
   "mimetype": "text/x-python",
   "name": "python",
   "nbconvert_exporter": "python",
   "pygments_lexer": "ipython3",
   "version": "3.12.3"
  }
 },
 "nbformat": 4,
 "nbformat_minor": 5
}
