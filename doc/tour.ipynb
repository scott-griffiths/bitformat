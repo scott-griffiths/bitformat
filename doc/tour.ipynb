{
 "cells": [
  {
   "metadata": {},
   "cell_type": "markdown",
   "source": [
    "# A Tour of bitformat\n",
    "\n",
    "A number of classes are available in bitformat to store and manipulate binary data.\n",
    "\n",
    "* ``Bits`` - An immutable container of binary data.\n",
    "* ``Dtype`` - A data type that gives an interpretation to binary data.\n",
    "* ``Array`` - A container for contiguously allocated `Bits` objects with the same `Dtype`.\n",
    "\n",
    "These are the building blocks for more complex fields that can be used to make a binary format.\n",
    "\n",
    "* ``Field`` - Either one value or an array, with a single data type, with an optional name and value.\n",
    "* ``Format`` - A sequence of other FieldTypes, with an optional name.\n",
    "\n",
    "For this tour we'll first install `bitformat` and import these classes::\n"
   ],
   "id": "1d9bb04d1bf321c3"
  },
  {
   "metadata": {},
   "cell_type": "code",
   "source": [
    "!pip install git+https://github.com/scott-griffiths/bitformat\n",
    "from bitformat import Bits, Dtype, Array, Field, Format"
   ],
   "id": "8e03b8012da3337d",
   "outputs": [],
   "execution_count": null
  },
  {
   "metadata": {},
   "cell_type": "markdown",
   "source": [
    "Note that we are pip installing directly from the repository, as the library is still in alpha so PyPI probably won't have the latest version.\n",
    "\n",
    "## Bits\n",
    "\n",
    "The ``Bits`` class represents an immutable sequence of bits, similar to how the built-in ``bytes`` is an immutable sequence of bytes,\n",
    "and a ``str`` is an immutable sequence of characters.\n",
    "\n",
    "There are several builder class methods used to create ``Bits`` objects.\n",
    "\n",
    "| Method name           | Description                                |\n",
    "|-----------------------|--------------------------------------------|\n",
    "| `Bits.pack(dtype, value)` | Combine a data type with a value.        |\n",
    "| `Bits.from_string(s)` | Use a formatted string.                    |\n",
    "| `Bits.from_bytes(b)`  | Directly from a `bytes` object.            |\n",
    "| `Bits.from_iterable(i)` | Converts each element to a single bit.    |\n",
    "| `Bits.zeros(n)`       | Initialise with zero bits.                 |\n",
    "| `Bits.ones(n)`        | Initialise with one bits.                  |\n",
    "| `Bits.join(iterable)` | Concatenate from an iterable such as a list.|\n",
    "\n",
    "\n",
    "The ``Bits`` constructor can be used as a shortcut for the ``from_string`` method, so ``Bits(s)`` and ``Bits.from_string(s)`` are equivalent.\n",
    "\n",
    "Creating from a string is often convenient and quite powerful.\n",
    "The string can be a binary, octal or hexadecimal literal by starting with ``'0b'``, ``'0o'`` or ``'0x'`` respectively.\n",
    "It can be a string that uses various data types of integer or floating point values, and it can be a sequence of tokens separated by commas. ::"
   ],
   "id": "acb299bdc01542f6"
  },
  {
   "metadata": {},
   "cell_type": "code",
   "source": [
    "a = Bits('0b110')  # A 3-bit binary string\n",
    "b = Bits('0xabcde')  # A 20-bit hexadecimal string\n",
    "c = Bits('bytes=b\"abcdefgh\"') # An 8 byte bytes object\n",
    "d = Bits('f32=13.5')  # A 32-bit IEEE floating point number\n",
    "e = Bits('i7=-31')  # A 7-bit signed integer\n",
    "f = Bits('0b001, u32=90, 0x5e')  # Three Bits objects concatenated together"
   ],
   "id": "53c713fcc45e4e5a",
   "outputs": [],
   "execution_count": null
  },
  {
   "metadata": {},
   "cell_type": "markdown",
   "source": [
    "\n",
    "Finally a data type can be used to create a `Bits` object by using the `pack` class method. ::"
   ],
   "id": "7d1db6101161757"
  },
  {
   "metadata": {},
   "cell_type": "code",
   "source": [
    "g = Bits.pack('u8', 65)  # An 8-bit unsigned integer with the value 65\n",
    "h = Bits.pack('hex', 'abcde')  # A 20-bit hexadecimal string\n",
    "i = Bits.pack('bytes', b'hello')  # A 40-bit binary string\n",
    "j = Bits.pack('f16', -13.81)  # A 16-bit IEEE floating point number"
   ],
   "id": "396522c67c8e64cf",
   "outputs": [],
   "execution_count": null
  },
  {
   "metadata": {},
   "cell_type": "markdown",
   "source": [
    "\n",
    "\n",
    "The first parameter of ``pack`` is the data-type, which can be either a ``Dtype`` or a string that can be used to create one.\n",
    "The second parameter is a value that makes sense for that data type, which could be a binary string, a floating point number, an integer etc. depending on the ``Dtype``.\n",
    "\n",
    "Once you've created your ``Bits`` object there is a rich API for manipulating and interpreting the data.\n",
    "One fundamental thing to do is to interpret the binary data according to a format or data-type; essentially the opposite to how the ``pack`` method works. ::"
   ],
   "id": "3ce28a71de077681"
  },
  {
   "metadata": {},
   "cell_type": "code",
   "source": "g.unpack('u8')  # Returns 65",
   "id": "d3d60f076765ee43",
   "outputs": [],
   "execution_count": null
  },
  {
   "metadata": {},
   "cell_type": "code",
   "source": "h.unpack(['hex20'])  # Returns ['abcde']",
   "id": "2b95335d85f58623",
   "outputs": [],
   "execution_count": null
  },
  {
   "metadata": {},
   "cell_type": "markdown",
   "source": [
    "\n",
    "The ``unpack`` method is quite powerful and is a bit of a sledgehammer for these simple cases, so as a shortcut you can use properties that are available for simple dtypes. ::"
   ],
   "id": "e65703e17f8e4225"
  },
  {
   "metadata": {},
   "cell_type": "code",
   "source": "g.u",
   "id": "5351ff48f143d54",
   "outputs": [],
   "execution_count": null
  },
  {
   "metadata": {},
   "cell_type": "code",
   "source": "h.hex  # Returns 'abcde'",
   "id": "49f1de3af66f0ab5",
   "outputs": [],
   "execution_count": null
  },
  {
   "metadata": {},
   "cell_type": "markdown",
   "source": [
    "\n",
    "Of course the ``Bits`` object is just a collection of bits and doesn't know how it was created, so any interpretation that makes sense is allowed ::"
   ],
   "id": "18e7c3c078dbd30d"
  },
  {
   "metadata": {},
   "cell_type": "code",
   "source": "a.unpack('oct')  # an octal string",
   "id": "5bbb6591db1061c6",
   "outputs": [],
   "execution_count": null
  },
  {
   "metadata": {},
   "cell_type": "code",
   "source": "b.unpack('u')  # an unsigned int",
   "id": "2a6d64b74cd5f10d",
   "outputs": [],
   "execution_count": null
  },
  {
   "metadata": {},
   "cell_type": "code",
   "source": "c.unpack('f_le64')  # a 64-bit little-endian IEEE floating point number",
   "id": "5235359fac0144a",
   "outputs": [],
   "execution_count": null
  },
  {
   "metadata": {},
   "cell_type": "code",
   "source": "d.unpack('hex')",
   "id": "199650c92f381c39",
   "outputs": [],
   "execution_count": null
  },
  {
   "metadata": {},
   "cell_type": "code",
   "source": "e.unpack('bin')",
   "id": "f3bd5ac935c3e894",
   "outputs": [],
   "execution_count": null
  },
  {
   "metadata": {},
   "cell_type": "markdown",
   "source": [
    "\n",
    "In places where a ``Bits`` is expected, a formatted string that can be used to more conveniently create the `Bits` object.\n",
    "For example, if ``a`` is a ``Bits`` object, instead of ::\n",
    "\n",
    "    a += Bits.pack('u8', 65)\n",
    "\n",
    "you can equivalently write ::\n",
    "\n",
    "    a += 'u8 = 65'\n",
    "\n",
    "Some examples of strings that can be converted to `Bits` objects:\n",
    "\n",
    "* ``'0b00110'``: A binary string.\n",
    "* ``'0x3fff0001'``: A hexadecimal string.\n",
    "* ``'i15=-401'``: A 15 bit signed integer representing the number -401.\n",
    "* ``'f64=1.3e5'``: A 64 bit floating point number representing 130000.\n",
    "* ``'0b001, u32=90, 0x5e'``: A sequence of bits that represent a 3-bit binary number, a 32-bit unsigned integer and a 8-bit hexadecimal number.\n",
    "\n",
    "## Dtype\n",
    "\n",
    "The dtype (or data type) gives an interpretation to binary data.\n",
    "Most of these have a type and a bit-length, and are usually created when needed from a string as in the previous section.\n",
    "\n",
    "For example the data-type representing an unsigned integer of length 4 bits can be created by either ``Dtype('u', 4)`` or by using the string ``'u4'`` when a `Dtype` is required as a parameter.\n",
    "\n",
    "Some examples of the data-types names available are:\n",
    "\n",
    "| Dtype string | Description |\n",
    "|--------------|-------------|\n",
    "| `'u10'`      | A 10-bit unsigned integer |\n",
    "| `'i7'`       | A 7-bit signed two's complement integer |\n",
    "| `'f32'`      | A 32-bit IEEE floating point number |\n",
    "| `'bin4'`     | A 4-bit binary string |\n",
    "| `'hex12'`    | A 12-bit hexadecimal string (i.e. 3 hex characters) |\n",
    "| `'bool'`     | A single bit boolean |\n",
    "| `'bits5'`    | A Bits instance of length 5 bits |\n",
    "| `'bytes20'`  | 20 bytes of data |\n",
    "| `'pad8'`     | Pad bits that have no interpretation |\n",
    "\n",
    "Note that there are no unnatural restrictions on the length of a dtype.\n",
    "If you want a 3-bit integer or 1001 padding bits then that's as easy to do as any other length.\n",
    "\n",
    "\n",
    "## Array\n",
    "\n",
    "The `Array` class is used as a container for contiguously allocated `Bits` objects with the same `Dtype`.\n",
    "\n",
    "`Array` instances act very like an ordinary Python array, but with each element being a fixed-length dtype.\n",
    "\n",
    "\n"
   ],
   "id": "c17d59a4d8cda2bb"
  }
 ],
 "metadata": {
  "kernelspec": {
   "display_name": "Python 3",
   "language": "python",
   "name": "python3"
  },
  "language_info": {
   "codemirror_mode": {
    "name": "ipython",
    "version": 2
   },
   "file_extension": ".py",
   "mimetype": "text/x-python",
   "name": "python",
   "nbconvert_exporter": "python",
   "pygments_lexer": "ipython2",
   "version": "2.7.6"
  }
 },
 "nbformat": 4,
 "nbformat_minor": 5
}
